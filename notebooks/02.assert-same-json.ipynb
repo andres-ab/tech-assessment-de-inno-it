{
 "cells": [
  {
   "cell_type": "code",
   "execution_count": 2,
   "id": "3b28a9c9-77d0-4ec3-b404-d68f343ad9dd",
   "metadata": {},
   "outputs": [
    {
     "name": "stdout",
     "output_type": "stream",
     "text": [
      "Collecting deepdiff\n",
      "  Downloading deepdiff-6.7.1-py3-none-any.whl.metadata (6.1 kB)\n",
      "Collecting ordered-set<4.2.0,>=4.0.2 (from deepdiff)\n",
      "  Downloading ordered_set-4.1.0-py3-none-any.whl (7.6 kB)\n",
      "Downloading deepdiff-6.7.1-py3-none-any.whl (76 kB)\n",
      "\u001b[2K   \u001b[90m━━━━━━━━━━━━━━━━━━━━━━━━━━━━━━━━━━━━━━━━\u001b[0m \u001b[32m76.6/76.6 kB\u001b[0m \u001b[31m913.6 kB/s\u001b[0m eta \u001b[36m0:00:00\u001b[0ma \u001b[36m0:00:01\u001b[0m\n",
      "\u001b[?25hInstalling collected packages: ordered-set, deepdiff\n",
      "Successfully installed deepdiff-6.7.1 ordered-set-4.1.0\n"
     ]
    }
   ],
   "source": [
    "!pip install deepdiff"
   ]
  },
  {
   "cell_type": "code",
   "execution_count": 7,
   "id": "e90ec292-5c68-4737-ade3-95168bfe2213",
   "metadata": {},
   "outputs": [],
   "source": [
    "import json\n",
    "from deepdiff import DeepDiff\n"
   ]
  },
  {
   "cell_type": "code",
   "execution_count": 8,
   "id": "41a00d54-62cd-469d-b174-e06822ad3e16",
   "metadata": {},
   "outputs": [],
   "source": [
    "def compare_json_files(file_path1, file_path2):\n",
    "    # Load JSON data from files\n",
    "    with open(file_path1, 'r') as file1:\n",
    "        data1 = json.load(file1)\n",
    "\n",
    "    with open(file_path2, 'r') as file2:\n",
    "        data2 = json.load(file2)\n",
    "\n",
    "    # Compare JSON objects\n",
    "    diff = DeepDiff(data1, data2)\n",
    "\n",
    "    # Check if there are any differences\n",
    "    if diff:\n",
    "        print(\"Differences found:\")\n",
    "        for change_type, details in diff.items():\n",
    "            for path, value in details.items():\n",
    "                print(f\"{change_type} at {path}: {value}\")\n",
    "    else:\n",
    "        print(\"The JSON files are identical.\")\n"
   ]
  },
  {
   "cell_type": "code",
   "execution_count": 9,
   "id": "ce6746da-20c7-4beb-b801-0ce9a61da098",
   "metadata": {},
   "outputs": [],
   "source": [
    "json_file_path1 = '../data/sample/MarketAvrgTicketSample.json'\n",
    "json_file_path2 = '../data/clean/MarketAvrgTicketSample_output_comparable_to_sample.json'\n"
   ]
  },
  {
   "cell_type": "code",
   "execution_count": 10,
   "id": "f39100e3-ca00-45e9-8fce-6d7804302d60",
   "metadata": {},
   "outputs": [
    {
     "name": "stdout",
     "output_type": "stream",
     "text": [
      "The JSON files are identical.\n"
     ]
    }
   ],
   "source": [
    "compare_json_files(json_file_path1, json_file_path2)\n"
   ]
  },
  {
   "cell_type": "code",
   "execution_count": null,
   "id": "9c432994-5800-4ac9-bb56-3bd846548ee5",
   "metadata": {},
   "outputs": [],
   "source": []
  }
 ],
 "metadata": {
  "kernelspec": {
   "display_name": "Python 3 (ipykernel)",
   "language": "python",
   "name": "python3"
  },
  "language_info": {
   "codemirror_mode": {
    "name": "ipython",
    "version": 3
   },
   "file_extension": ".py",
   "mimetype": "text/x-python",
   "name": "python",
   "nbconvert_exporter": "python",
   "pygments_lexer": "ipython3",
   "version": "3.11.6"
  }
 },
 "nbformat": 4,
 "nbformat_minor": 5
}
